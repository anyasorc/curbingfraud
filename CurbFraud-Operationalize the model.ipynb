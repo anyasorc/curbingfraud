{
 "cells": [
  {
   "cell_type": "code",
   "execution_count": 87,
   "id": "c9013294",
   "metadata": {},
   "outputs": [],
   "source": [
    "import pandas as pd\n",
    "import numpy as np\n",
    "from flask import Flask, request, jsonify, render_template\n",
    "import pickle\n",
    "import json\n",
    "import warnings\n",
    "from datetime import datetime\n",
    "warnings.filterwarnings('ignore')"
   ]
  },
  {
   "cell_type": "code",
   "execution_count": 88,
   "id": "ae357435",
   "metadata": {},
   "outputs": [],
   "source": [
    "def getmodelpath(acct):\n",
    "    # check if the account exist in the list of accounts\n",
    "    # if it does then go and fetch the customer's model\n",
    "    # else use generic model for the customer since it is assumed that the customer is new\n",
    "    # and does not have a trained model yet.\n",
    "    my_acct_list = [\n",
    "    \"0011138883\",\n",
    "    \"0011148884\",\n",
    "    \"0011168811\",\n",
    "    \"0011168819\",\n",
    "    \"0011168886\",\n",
    "    \"0011168810\",\n",
    "    \"0011168813\",\n",
    "    \"0011118881\",\n",
    "    \"0011168887\",\n",
    "    \"0011128882\",\n",
    "    \"0011168888\",\n",
    "    \"0011168816\",\n",
    "    \"0011168889\",\n",
    "    \"0011168815\",\n",
    "    \"0011168812\",\n",
    "    \"0011168818\",\n",
    "    \"0011168820\",\n",
    "    \"0011158885\",\n",
    "    \"0011168817\",\n",
    "    \"0011168814\"]\n",
    "    \n",
    "    search_item = acct\n",
    "    \n",
    "    if search_item in my_acct_list:\n",
    "        val = 1\n",
    "    else:\n",
    "        val = -1\n",
    "    \n",
    "    if val > 0:\n",
    "        #get the path to the model and assign to the variable modelpath\n",
    "        modelpath = \"D:\\\\curbingfraud\\\\CustTxnPatternModels\\\\\"\n",
    "        name_of_model = modelpath + acct + \"_txn_Pattern.pkl\"\n",
    "        print(f\"The name of the model gotten is {name_of_model} for account {acct}\")\n",
    "    else:\n",
    "        # get the generic model path since the customer account does not have any model yet\n",
    "        print(f\"customer with acct {acct} does not have any transaction pattern and hence should be treated as a new customer\")\n",
    "        Generictxnpattern = \"D:\\\\curbingfraud\\\\bankwidepatternmodel\\\\\"\n",
    "        name_of_model = Generictxnpattern + \"General_txn_Pattern.pkl\"\n",
    "        print(f\"The name of the model gotten is {name_of_model} for account {acct}\")\n",
    "    return name_of_model, val"
   ]
  },
  {
   "cell_type": "code",
   "execution_count": 93,
   "id": "61d881b2",
   "metadata": {},
   "outputs": [],
   "source": [
    "def processoutput(output,amt, acct):\n",
    "    remark =\"\"\n",
    "    #check if the predicted outcome is -1\n",
    "    if output == -1:\n",
    "        remark = \"The model predicts a TOTAL DEVIATION [Anomaly]  from customer's txn pattern for Account \" \\\n",
    "        + acct + \" with txn amount \" + str(amt)\n",
    "        rsp = {'amt': amt, 'acct': acct,\n",
    "                  'predictedScore': str(output), 'remark': remark}\n",
    "        return jsonify(predictedvalue = rsp)\n",
    "    else:\n",
    "        #prepare the json response\n",
    "        remark = \"The model predicts that customer txn pattern is OK for Account \" + acct + \\\n",
    "        \" with txn amount \" + str(amt)\n",
    "        rsp = {'amt': amt, 'acct': acct,\n",
    "               'predictedScore': str(output), 'remark': remark}\n",
    "        return jsonify(predictedvalue = rsp)"
   ]
  },
  {
   "cell_type": "code",
   "execution_count": 90,
   "id": "8fdf86c6",
   "metadata": {},
   "outputs": [],
   "source": [
    "app = Flask(__name__)\n",
    "@app.route('/api/custxnpattern', methods=['POST'])\n",
    "def predict():\n",
    "    # read the data into its respective varibales\n",
    "    data = request.get_json(force=True)\n",
    "    acct = data['acct']\n",
    "    amt = float(data['amt'])\n",
    "    # check to ensure the account parameter is not empty\n",
    "    if acct == '':\n",
    "        remark = 'Kindly ensure that the account field is not empty'\n",
    "        rsp = {'amt': amt, 'acct': acct,\n",
    "               'predictedScore': '', 'remark': remark}\n",
    "        #log into the log file\n",
    "        return jsonify(predictedScore='', acct=acct, amt=amt, remark=remark)\n",
    "    \n",
    "    # check to ensure the amount parameter is not empty or less than or equal to 0\n",
    "    if amt is None or amt <= 0:\n",
    "        remark = 'Kindly ensure the amount field is not empty and that the value is >0'\n",
    "        rsp = {'amt': amt, 'acct': acct,\n",
    "                'predictedScore': '', 'remark': remark}\n",
    "        #log into the log file\n",
    "        return jsonify(predictedScore='', acct=acct, amt=amt, remark=remark)\n",
    "    \n",
    "    #get the name of the model.\n",
    "    # note: the name_of_model variable can contain either the customer transaction pattern\n",
    "    # or the generic model if the customer is new.\n",
    "    name_of_model, val = getmodelpath(acct)\n",
    "    print(f\"This the model fetched ==> {name_of_model}\")\n",
    "    \n",
    "    try:\n",
    "        infile = open(name_of_model,'rb') #open the pickel file\n",
    "        model = pickle.load(infile, encoding='bytes') #read the pickel file\n",
    "        infile.close() #close the pickel file\n",
    "    except:\n",
    "        remark = \"Unable to find file path for customer's \" + acct + \" transaction pattern\"\n",
    "        return jsonify(predictedScore='', acct=acct, amt=amt, remark=remark)\n",
    "    \n",
    "    #pass the amount and hour\n",
    "    currentDateAndTime = datetime.now()\n",
    "    txn_hour = currentDateAndTime.hour\n",
    "    print(f\"The transaction hour is ==> {txn_hour}\")\n",
    "    prediction = model.predict([[np.array(amt), np.array(txn_hour)]])\n",
    "    \n",
    "    # Take the first value of prediction\n",
    "    output = prediction[0]\n",
    "    print(f\"The output gotten for account: {acct} with mdoel: {name_of_model} is {output}\")\n",
    "    return processoutput(output, amt, acct)"
   ]
  },
  {
   "cell_type": "code",
   "execution_count": 91,
   "id": "2072598c",
   "metadata": {
    "scrolled": false
   },
   "outputs": [
    {
     "name": "stdout",
     "output_type": "stream",
     "text": [
      " * Serving Flask app \"__main__\" (lazy loading)\n",
      " * Environment: production\n",
      "\u001b[31m   WARNING: This is a development server. Do not use it in a production deployment.\u001b[0m\n",
      "\u001b[2m   Use a production WSGI server instead.\u001b[0m\n",
      " * Debug mode: off\n"
     ]
    },
    {
     "name": "stderr",
     "output_type": "stream",
     "text": [
      " * Running on http://127.0.0.1:5009/ (Press CTRL+C to quit)\n"
     ]
    }
   ],
   "source": [
    "if __name__ == '__main__':\n",
    "    app.run(port=5009)"
   ]
  },
  {
   "cell_type": "code",
   "execution_count": null,
   "id": "b2c6c117",
   "metadata": {},
   "outputs": [],
   "source": []
  }
 ],
 "metadata": {
  "kernelspec": {
   "display_name": "Python 3 (ipykernel)",
   "language": "python",
   "name": "python3"
  },
  "language_info": {
   "codemirror_mode": {
    "name": "ipython",
    "version": 3
   },
   "file_extension": ".py",
   "mimetype": "text/x-python",
   "name": "python",
   "nbconvert_exporter": "python",
   "pygments_lexer": "ipython3",
   "version": "3.9.13"
  }
 },
 "nbformat": 4,
 "nbformat_minor": 5
}
