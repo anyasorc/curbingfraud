{
 "cells": [
  {
   "cell_type": "code",
   "execution_count": 1,
   "id": "4f8d725a",
   "metadata": {},
   "outputs": [],
   "source": [
    "# import the required library\n",
    "import warnings\n",
    "import pandas as pd\n",
    "from datetime import timedelta"
   ]
  },
  {
   "cell_type": "code",
   "execution_count": 2,
   "id": "548dfa7f",
   "metadata": {},
   "outputs": [
    {
     "data": {
      "text/html": [
       "<div>\n",
       "<style scoped>\n",
       "    .dataframe tbody tr th:only-of-type {\n",
       "        vertical-align: middle;\n",
       "    }\n",
       "\n",
       "    .dataframe tbody tr th {\n",
       "        vertical-align: top;\n",
       "    }\n",
       "\n",
       "    .dataframe thead th {\n",
       "        text-align: right;\n",
       "    }\n",
       "</style>\n",
       "<table border=\"1\" class=\"dataframe\">\n",
       "  <thead>\n",
       "    <tr style=\"text-align: right;\">\n",
       "      <th></th>\n",
       "      <th>first_name</th>\n",
       "      <th>last_name</th>\n",
       "      <th>email</th>\n",
       "      <th>gender</th>\n",
       "      <th>ip_address</th>\n",
       "      <th>transaction_id</th>\n",
       "      <th>transaction_date_time</th>\n",
       "      <th>account_number</th>\n",
       "      <th>transaction_type</th>\n",
       "      <th>transaction_amount</th>\n",
       "      <th>transaction_currency</th>\n",
       "      <th>merchant_name</th>\n",
       "      <th>merchant_location</th>\n",
       "      <th>transaction_category</th>\n",
       "    </tr>\n",
       "  </thead>\n",
       "  <tbody>\n",
       "    <tr>\n",
       "      <th>0</th>\n",
       "      <td>Tomi</td>\n",
       "      <td>Somefun</td>\n",
       "      <td>Tomi.Somefun-Ogbu@test.com</td>\n",
       "      <td>Female</td>\n",
       "      <td>144.23.8.167</td>\n",
       "      <td>897</td>\n",
       "      <td>2021-04-23 15:07:22</td>\n",
       "      <td>0011168812</td>\n",
       "      <td>transfer</td>\n",
       "      <td>16316.78</td>\n",
       "      <td>IDR</td>\n",
       "      <td>Oyoyo</td>\n",
       "      <td>Room 193</td>\n",
       "      <td>transportation</td>\n",
       "    </tr>\n",
       "    <tr>\n",
       "      <th>1</th>\n",
       "      <td>Tomi</td>\n",
       "      <td>Somefun</td>\n",
       "      <td>Tomi.Somefun-Ogbu@test.com</td>\n",
       "      <td>Female</td>\n",
       "      <td>31.188.31.232</td>\n",
       "      <td>898</td>\n",
       "      <td>2021-04-18 16:22:53</td>\n",
       "      <td>0011168812</td>\n",
       "      <td>withdrawal</td>\n",
       "      <td>7362.59</td>\n",
       "      <td>SEK</td>\n",
       "      <td>Yambee</td>\n",
       "      <td>Suite 61</td>\n",
       "      <td>entertainment</td>\n",
       "    </tr>\n",
       "    <tr>\n",
       "      <th>2</th>\n",
       "      <td>Tomi</td>\n",
       "      <td>Somefun</td>\n",
       "      <td>Tomi.Somefun-Ogbu@test.com</td>\n",
       "      <td>Female</td>\n",
       "      <td>84.29.217.100</td>\n",
       "      <td>899</td>\n",
       "      <td>2021-12-27 19:52:24</td>\n",
       "      <td>0011168812</td>\n",
       "      <td>withdrawal</td>\n",
       "      <td>29449.95</td>\n",
       "      <td>CNY</td>\n",
       "      <td>Feedbug</td>\n",
       "      <td>Room 939</td>\n",
       "      <td>transportation</td>\n",
       "    </tr>\n",
       "  </tbody>\n",
       "</table>\n",
       "</div>"
      ],
      "text/plain": [
       "  first_name last_name                       email  gender     ip_address  \\\n",
       "0       Tomi   Somefun  Tomi.Somefun-Ogbu@test.com  Female   144.23.8.167   \n",
       "1       Tomi   Somefun  Tomi.Somefun-Ogbu@test.com  Female  31.188.31.232   \n",
       "2       Tomi   Somefun  Tomi.Somefun-Ogbu@test.com  Female  84.29.217.100   \n",
       "\n",
       "   transaction_id transaction_date_time account_number transaction_type  \\\n",
       "0             897   2021-04-23 15:07:22     0011168812         transfer   \n",
       "1             898   2021-04-18 16:22:53     0011168812       withdrawal   \n",
       "2             899   2021-12-27 19:52:24     0011168812       withdrawal   \n",
       "\n",
       "   transaction_amount transaction_currency merchant_name merchant_location  \\\n",
       "0            16316.78                  IDR         Oyoyo          Room 193   \n",
       "1             7362.59                  SEK        Yambee          Suite 61   \n",
       "2            29449.95                  CNY       Feedbug          Room 939   \n",
       "\n",
       "  transaction_category  \n",
       "0       transportation  \n",
       "1        entertainment  \n",
       "2       transportation  "
      ]
     },
     "execution_count": 2,
     "metadata": {},
     "output_type": "execute_result"
    }
   ],
   "source": [
    "# Load the bank transaction dataset\n",
    "# specify the path where your dataset is\n",
    "df = pd.read_csv('D:/rawdata/tbl_bank_transactions.csv',dtype={'account_number':str,'transaction_amount':float}) \n",
    "df.head(3)"
   ]
  },
  {
   "cell_type": "code",
   "execution_count": 3,
   "id": "00ab97ae",
   "metadata": {},
   "outputs": [
    {
     "data": {
      "text/plain": [
       "(20000, 14)"
      ]
     },
     "execution_count": 3,
     "metadata": {},
     "output_type": "execute_result"
    }
   ],
   "source": [
    "# confirm how many records exist and the number of rows and columns\n",
    "df.shape"
   ]
  },
  {
   "cell_type": "code",
   "execution_count": 4,
   "id": "ff496179",
   "metadata": {},
   "outputs": [
    {
     "data": {
      "text/html": [
       "<div>\n",
       "<style scoped>\n",
       "    .dataframe tbody tr th:only-of-type {\n",
       "        vertical-align: middle;\n",
       "    }\n",
       "\n",
       "    .dataframe tbody tr th {\n",
       "        vertical-align: top;\n",
       "    }\n",
       "\n",
       "    .dataframe thead th {\n",
       "        text-align: right;\n",
       "    }\n",
       "</style>\n",
       "<table border=\"1\" class=\"dataframe\">\n",
       "  <thead>\n",
       "    <tr style=\"text-align: right;\">\n",
       "      <th></th>\n",
       "      <th>account_number</th>\n",
       "      <th>transaction_date_time</th>\n",
       "      <th>transaction_amount</th>\n",
       "    </tr>\n",
       "  </thead>\n",
       "  <tbody>\n",
       "    <tr>\n",
       "      <th>0</th>\n",
       "      <td>0011168812</td>\n",
       "      <td>2021-04-23 15:07:22</td>\n",
       "      <td>16316.78</td>\n",
       "    </tr>\n",
       "    <tr>\n",
       "      <th>1</th>\n",
       "      <td>0011168812</td>\n",
       "      <td>2021-04-18 16:22:53</td>\n",
       "      <td>7362.59</td>\n",
       "    </tr>\n",
       "    <tr>\n",
       "      <th>2</th>\n",
       "      <td>0011168812</td>\n",
       "      <td>2021-12-27 19:52:24</td>\n",
       "      <td>29449.95</td>\n",
       "    </tr>\n",
       "    <tr>\n",
       "      <th>3</th>\n",
       "      <td>0011168812</td>\n",
       "      <td>2021-07-14 08:19:50</td>\n",
       "      <td>1918.73</td>\n",
       "    </tr>\n",
       "    <tr>\n",
       "      <th>4</th>\n",
       "      <td>0011168812</td>\n",
       "      <td>2021-04-19 09:47:06</td>\n",
       "      <td>23768.32</td>\n",
       "    </tr>\n",
       "  </tbody>\n",
       "</table>\n",
       "</div>"
      ],
      "text/plain": [
       "  account_number transaction_date_time  transaction_amount\n",
       "0     0011168812   2021-04-23 15:07:22            16316.78\n",
       "1     0011168812   2021-04-18 16:22:53             7362.59\n",
       "2     0011168812   2021-12-27 19:52:24            29449.95\n",
       "3     0011168812   2021-07-14 08:19:50             1918.73\n",
       "4     0011168812   2021-04-19 09:47:06            23768.32"
      ]
     },
     "execution_count": 4,
     "metadata": {},
     "output_type": "execute_result"
    }
   ],
   "source": [
    "# we will be working with account_number, transaction_date_time, and transaction_amount\n",
    "df = df[['account_number','transaction_date_time', 'transaction_amount']]\n",
    "#peek into the data\n",
    "df.head(5)"
   ]
  },
  {
   "cell_type": "code",
   "execution_count": 5,
   "id": "edc72fe5",
   "metadata": {},
   "outputs": [
    {
     "data": {
      "text/plain": [
       "account_number            object\n",
       "transaction_date_time     object\n",
       "transaction_amount       float64\n",
       "dtype: object"
      ]
     },
     "execution_count": 5,
     "metadata": {},
     "output_type": "execute_result"
    }
   ],
   "source": [
    "# confirm the data types\n",
    "df.dtypes"
   ]
  },
  {
   "cell_type": "code",
   "execution_count": 6,
   "id": "88cdedfd",
   "metadata": {},
   "outputs": [],
   "source": [
    "# Convert the InputDate into date format without time.\n",
    "df['transaction_date_time'] = pd.to_datetime(df['transaction_date_time']).dt.date\n",
    "df['transaction_date_time'] = pd.to_datetime(df['transaction_date_time']) "
   ]
  },
  {
   "cell_type": "code",
   "execution_count": 7,
   "id": "ac301df3",
   "metadata": {},
   "outputs": [
    {
     "data": {
      "text/plain": [
       "account_number                   object\n",
       "transaction_date_time    datetime64[ns]\n",
       "transaction_amount              float64\n",
       "dtype: object"
      ]
     },
     "execution_count": 7,
     "metadata": {},
     "output_type": "execute_result"
    }
   ],
   "source": [
    "df.dtypes"
   ]
  },
  {
   "cell_type": "code",
   "execution_count": 8,
   "id": "9d0edfcf",
   "metadata": {},
   "outputs": [
    {
     "name": "stdout",
     "output_type": "stream",
     "text": [
      "account_number           0\n",
      "transaction_date_time    0\n",
      "transaction_amount       0\n",
      "dtype: int64\n"
     ]
    }
   ],
   "source": [
    "# check for NAN in the amount \n",
    "print(df.isna().sum())"
   ]
  },
  {
   "cell_type": "code",
   "execution_count": 9,
   "id": "848c01b8",
   "metadata": {},
   "outputs": [
    {
     "data": {
      "text/html": [
       "<div>\n",
       "<style scoped>\n",
       "    .dataframe tbody tr th:only-of-type {\n",
       "        vertical-align: middle;\n",
       "    }\n",
       "\n",
       "    .dataframe tbody tr th {\n",
       "        vertical-align: top;\n",
       "    }\n",
       "\n",
       "    .dataframe thead th {\n",
       "        text-align: right;\n",
       "    }\n",
       "</style>\n",
       "<table border=\"1\" class=\"dataframe\">\n",
       "  <thead>\n",
       "    <tr style=\"text-align: right;\">\n",
       "      <th></th>\n",
       "      <th>account_number</th>\n",
       "      <th>transaction_date_time</th>\n",
       "      <th>transaction_amount</th>\n",
       "    </tr>\n",
       "  </thead>\n",
       "  <tbody>\n",
       "    <tr>\n",
       "      <th>0</th>\n",
       "      <td>0011168812</td>\n",
       "      <td>2021-04-23</td>\n",
       "      <td>16316.78</td>\n",
       "    </tr>\n",
       "    <tr>\n",
       "      <th>1</th>\n",
       "      <td>0011168812</td>\n",
       "      <td>2021-04-18</td>\n",
       "      <td>7362.59</td>\n",
       "    </tr>\n",
       "    <tr>\n",
       "      <th>2</th>\n",
       "      <td>0011168812</td>\n",
       "      <td>2021-12-27</td>\n",
       "      <td>29449.95</td>\n",
       "    </tr>\n",
       "    <tr>\n",
       "      <th>3</th>\n",
       "      <td>0011168812</td>\n",
       "      <td>2021-07-14</td>\n",
       "      <td>1918.73</td>\n",
       "    </tr>\n",
       "    <tr>\n",
       "      <th>4</th>\n",
       "      <td>0011168812</td>\n",
       "      <td>2021-04-19</td>\n",
       "      <td>23768.32</td>\n",
       "    </tr>\n",
       "  </tbody>\n",
       "</table>\n",
       "</div>"
      ],
      "text/plain": [
       "  account_number transaction_date_time  transaction_amount\n",
       "0     0011168812            2021-04-23            16316.78\n",
       "1     0011168812            2021-04-18             7362.59\n",
       "2     0011168812            2021-12-27            29449.95\n",
       "3     0011168812            2021-07-14             1918.73\n",
       "4     0011168812            2021-04-19            23768.32"
      ]
     },
     "execution_count": 9,
     "metadata": {},
     "output_type": "execute_result"
    }
   ],
   "source": [
    "#peek into the data to confirm transaction_date_time is now without time.\n",
    "df.head(5)"
   ]
  },
  {
   "cell_type": "code",
   "execution_count": 10,
   "id": "c46b2220",
   "metadata": {},
   "outputs": [],
   "source": [
    "# function to generate each customers transaction pattern by account\n",
    "# and write into folders\n",
    "def gen_txn_pattern_per_acct(df):\n",
    "    # get the unique transaction accounts\n",
    "    # this will end up getting 20 unique accounts\n",
    "    # since our dataset contains just 20 customers account with transactions\n",
    "    df_unqiue_accts = df.account_number.unique()\n",
    "    # get the path to write data.  This is the path where the folders data.1, data.2, data.3 were created.\n",
    "    writedata = \"D:\\\\curbingfraud\\\\datasets\\\\\"\n",
    "    # set the txn pattern number of days for pattern generation per account\n",
    "    # as approved by management\n",
    "    num_of_days_txn_pattern = \"30\"\n",
    "    # form the dataframe name variable to be used\n",
    "    txndays = \"sum_\"+num_of_days_txn_pattern+\"days\" # this will become sum_30days\n",
    "    cnt = 0\n",
    "    datafolder = ''\n",
    "    total = 0\n",
    "    for i in df_unqiue_accts:\n",
    "        total += 1\n",
    "        cnt += 1\n",
    "        # pick the account to start generating txn pattern\n",
    "        df_per_acct = df.query('account_number == @i')\n",
    "        # sort the value by input date and set the index to input date\n",
    "        # the set_index() method allows one or more column values become the row index.\n",
    "        # Note: I used the \\ to move the rest of the code to a new line.\n",
    "        df_txn_pattern = df_per_acct.sort_values(by=['account_number', 'transaction_date_time']).\\\n",
    "        set_index('transaction_date_time')\n",
    "        \n",
    "        # get the sum of the previous n days transaction amount based on customers account\n",
    "        # Note: I used the \\ to move the rest of the code to a new line.\n",
    "        df_txn_pattern[txndays] = df_txn_pattern.groupby('account_number')['transaction_amount'].\\\n",
    "        transform(lambda s: s.rolling(timedelta(days=int(num_of_days_txn_pattern))).sum())\n",
    "        # assign the value into new dataframe named final_df\n",
    "        final_df = df_txn_pattern[txndays]\n",
    "        # check if the cnt is 3 then reset cnt 1\n",
    "        # cnt ==3 means it has gotten to the last folder\n",
    "        # and there is a need to start writing into folder 1 and proceed to the next folder\n",
    "        # until we are done splitting.\n",
    "        if cnt == 1:\n",
    "            datafolder = \"data.1\"\n",
    "            print(f\"Writing data for {i} into folder path {datafolder}. item {str(total)} of ==> {str(len(df_unqiue_accts))}\")\n",
    "        elif cnt == 2:\n",
    "            datafolder = \"data.2\"\n",
    "            print(f\"Writing data for {i} into folder path {datafolder}. item {str(total)} of ==> {str(len(df_unqiue_accts))}\")\n",
    "        elif cnt == 3:\n",
    "            datafolder = \"data.3\"\n",
    "            print(f\"Writing data for {i} into folder path {datafolder}. item {str(total)} of ==> {str(len(df_unqiue_accts))}\")\n",
    "            cnt = 0\n",
    "        final_df.to_csv(writedata + datafolder + \"\\\\\" + i + '.csv', index = False)\n",
    "\n",
    "    return total \n",
    "#*******************************************************"
   ]
  },
  {
   "cell_type": "code",
   "execution_count": 11,
   "id": "888e2f85",
   "metadata": {},
   "outputs": [
    {
     "name": "stdout",
     "output_type": "stream",
     "text": [
      "Writing data for 0011168812 into folder path data.1. item 1 of ==> 20\n",
      "Writing data for 0011168813 into folder path data.2. item 2 of ==> 20\n",
      "Writing data for 0011118881 into folder path data.3. item 3 of ==> 20\n",
      "Writing data for 0011128882 into folder path data.1. item 4 of ==> 20\n",
      "Writing data for 0011138883 into folder path data.2. item 5 of ==> 20\n",
      "Writing data for 0011148884 into folder path data.3. item 6 of ==> 20\n",
      "Writing data for 0011158885 into folder path data.1. item 7 of ==> 20\n",
      "Writing data for 0011168886 into folder path data.2. item 8 of ==> 20\n",
      "Writing data for 0011168887 into folder path data.3. item 9 of ==> 20\n",
      "Writing data for 0011168888 into folder path data.1. item 10 of ==> 20\n",
      "Writing data for 0011168889 into folder path data.2. item 11 of ==> 20\n",
      "Writing data for 0011168810 into folder path data.3. item 12 of ==> 20\n",
      "Writing data for 0011168811 into folder path data.1. item 13 of ==> 20\n",
      "Writing data for 0011168815 into folder path data.2. item 14 of ==> 20\n",
      "Writing data for 0011168814 into folder path data.3. item 15 of ==> 20\n",
      "Writing data for 0011168816 into folder path data.1. item 16 of ==> 20\n",
      "Writing data for 0011168817 into folder path data.2. item 17 of ==> 20\n",
      "Writing data for 0011168818 into folder path data.3. item 18 of ==> 20\n",
      "Writing data for 0011168819 into folder path data.1. item 19 of ==> 20\n",
      "Writing data for 0011168820 into folder path data.2. item 20 of ==> 20\n",
      "Data processing completed... with total item 20\n"
     ]
    }
   ],
   "source": [
    "# generate txn pattern file per account\n",
    "val = gen_txn_pattern_per_acct(df)\n",
    "print(f\"Data processing completed... with total item {str(val)}\")"
   ]
  },
  {
   "cell_type": "code",
   "execution_count": null,
   "id": "28da0615",
   "metadata": {},
   "outputs": [],
   "source": []
  }
 ],
 "metadata": {
  "kernelspec": {
   "display_name": "Python 3 (ipykernel)",
   "language": "python",
   "name": "python3"
  },
  "language_info": {
   "codemirror_mode": {
    "name": "ipython",
    "version": 3
   },
   "file_extension": ".py",
   "mimetype": "text/x-python",
   "name": "python",
   "nbconvert_exporter": "python",
   "pygments_lexer": "ipython3",
   "version": "3.9.13"
  }
 },
 "nbformat": 4,
 "nbformat_minor": 5
}
